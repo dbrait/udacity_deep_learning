{
 "cells": [
  {
   "cell_type": "markdown",
   "metadata": {
    "collapsed": true,
    "deletable": true,
    "editable": true
   },
   "source": [
    "# Image Classification\n",
    "In this project, you'll classify images from the [CIFAR-10 dataset](https://www.cs.toronto.edu/~kriz/cifar.html).  The dataset consists of airplanes, dogs, cats, and other objects. You'll preprocess the images, then train a convolutional neural network on all the samples. The images need to be normalized and the labels need to be one-hot encoded.  You'll get to apply what you learned and build a convolutional, max pooling, dropout, and fully connected layers.  At the end, you'll get to see your neural network's predictions on the sample images.\n",
    "## Get the Data\n",
    "Run the following cell to download the [CIFAR-10 dataset for python](https://www.cs.toronto.edu/~kriz/cifar-10-python.tar.gz)."
   ]
  },
  {
   "cell_type": "code",
   "execution_count": 1,
   "metadata": {
    "collapsed": false,
    "deletable": true,
    "editable": true
   },
   "outputs": [
    {
     "name": "stdout",
     "output_type": "stream",
     "text": [
      "All files found!\n"
     ]
    }
   ],
   "source": [
    "\"\"\"\n",
    "DON'T MODIFY ANYTHING IN THIS CELL THAT IS BELOW THIS LINE\n",
    "\"\"\"\n",
    "from urllib.request import urlretrieve\n",
    "from os.path import isfile, isdir\n",
    "from tqdm import tqdm\n",
    "import problem_unittests as tests\n",
    "import tarfile\n",
    "\n",
    "cifar10_dataset_folder_path = 'cifar-10-batches-py'\n",
    "\n",
    "class DLProgress(tqdm):\n",
    "    last_block = 0\n",
    "\n",
    "    def hook(self, block_num=1, block_size=1, total_size=None):\n",
    "        self.total = total_size\n",
    "        self.update((block_num - self.last_block) * block_size)\n",
    "        self.last_block = block_num\n",
    "\n",
    "if not isfile('cifar-10-python.tar.gz'):\n",
    "    with DLProgress(unit='B', unit_scale=True, miniters=1, desc='CIFAR-10 Dataset') as pbar:\n",
    "        urlretrieve(\n",
    "            'https://www.cs.toronto.edu/~kriz/cifar-10-python.tar.gz',\n",
    "            'cifar-10-python.tar.gz',\n",
    "            pbar.hook)\n",
    "\n",
    "if not isdir(cifar10_dataset_folder_path):\n",
    "    with tarfile.open('cifar-10-python.tar.gz') as tar:\n",
    "        tar.extractall()\n",
    "        tar.close()\n",
    "\n",
    "\n",
    "tests.test_folder_path(cifar10_dataset_folder_path)"
   ]
  },
  {
   "cell_type": "markdown",
   "metadata": {
    "deletable": true,
    "editable": true
   },
   "source": [
    "## Explore the Data\n",
    "The dataset is broken into batches to prevent your machine from running out of memory.  The CIFAR-10 dataset consists of 5 batches, named `data_batch_1`, `data_batch_2`, etc.. Each batch contains the labels and images that are one of the following:\n",
    "* airplane\n",
    "* automobile\n",
    "* bird\n",
    "* cat\n",
    "* deer\n",
    "* dog\n",
    "* frog\n",
    "* horse\n",
    "* ship\n",
    "* truck\n",
    "\n",
    "Understanding a dataset is part of making predictions on the data.  Play around with the code cell below by changing the `batch_id` and `sample_id`. The `batch_id` is the id for a batch (1-5). The `sample_id` is the id for a image and label pair in the batch.\n",
    "\n",
    "Ask yourself \"What are all possible labels?\", \"What is the range of values for the image data?\", \"Are the labels in order or random?\".  Answers to questions like these will help you preprocess the data and end up with better predictions."
   ]
  },
  {
   "cell_type": "code",
   "execution_count": 2,
   "metadata": {
    "collapsed": false,
    "deletable": true,
    "editable": true
   },
   "outputs": [
    {
     "name": "stdout",
     "output_type": "stream",
     "text": [
      "\n",
      "Stats of batch 1:\n",
      "Samples: 10000\n",
      "Label Counts: {0: 1005, 1: 974, 2: 1032, 3: 1016, 4: 999, 5: 937, 6: 1030, 7: 1001, 8: 1025, 9: 981}\n",
      "First 20 Labels: [6, 9, 9, 4, 1, 1, 2, 7, 8, 3, 4, 7, 7, 2, 9, 9, 9, 3, 2, 6]\n",
      "\n",
      "Example of Image 5:\n",
      "Image - Min Value: 0 Max Value: 252\n",
      "Image - Shape: (32, 32, 3)\n",
      "Label - Label Id: 1 Name: automobile\n"
     ]
    },
    {
     "data": {
      "image/png": "[encoded data removed]",
      "text/plain": [
       "<matplotlib.figure.Figure at 0x7fef9018aeb8>"
      ]
     },
     "metadata": {
      "image/png": {
       "height": 250,
       "width": 253
      }
     },
     "output_type": "display_data"
    }
   ],
   "source": [
    "%matplotlib inline\n",
    "%config InlineBackend.figure_format = 'retina'\n",
    "\n",
    "import helper\n",
    "import numpy as np\n",
    "\n",
    "# Explore the dataset\n",
    "batch_id = 1\n",
    "sample_id = 5\n",
    "helper.display_stats(cifar10_dataset_folder_path, batch_id, sample_id)"
   ]
  },
  {
   "cell_type": "markdown",
   "metadata": {
    "deletable": true,
    "editable": true
   },
   "source": [
    "## Implement Preprocess Functions\n",
    "### Normalize\n",
    "In the cell below, implement the `normalize` function to take in image data, `x`, and return it as a normalized Numpy array. The values should be in the range of 0 to 1, inclusive.  The return object should be the same shape as `x`."
   ]
  },
  {
   "cell_type": "code",
   "execution_count": 3,
   "metadata": {
    "collapsed": false,
    "deletable": true,
    "editable": true
   },
   "outputs": [
    {
     "name": "stdout",
     "output_type": "stream",
     "text": [
      "Tests Passed\n"
     ]
    }
   ],
   "source": [
    "def normalize(x):\n",
    "    \"\"\"\n",
    "    Normalize a list of sample image data in the range of 0 to 1\n",
    "    : x: List of image data.  The image shape is (32, 32, 3)\n",
    "    : return: Numpy array of normalize data\n",
    "    \"\"\"\n",
    "    normal = np.ndarray(x.shape,dtype=float)\n",
    "    normal[:] = x\n",
    "    for a in np.nditer(normal, op_flags=[\"readwrite\"]):\n",
    "        a[...] = a/255.0\n",
    "    # TODO: Implement Function\n",
    "    return normal\n",
    "\n",
    "\n",
    "\"\"\"\n",
    "DON'T MODIFY ANYTHING IN THIS CELL THAT IS BELOW THIS LINE\n",
    "\"\"\"\n",
    "tests.test_normalize(normalize)"
   ]
  },
  {
   "cell_type": "markdown",
   "metadata": {
    "deletable": true,
    "editable": true
   },
   "source": [
    "### One-hot encode\n",
    "Just like the previous code cell, you'll be implementing a function for preprocessing.  This time, you'll implement the `one_hot_encode` function. The input, `x`, are a list of labels.  Implement the function to return the list of labels as One-Hot encoded Numpy array.  The possible values for labels are 0 to 9. The one-hot encoding function should return the same encoding for each value between each call to `one_hot_encode`.  Make sure to save the map of encodings outside the function.\n",
    "\n",
    "Hint: Don't reinvent the wheel."
   ]
  },
  {
   "cell_type": "code",
   "execution_count": 4,
   "metadata": {
    "collapsed": false,
    "deletable": true,
    "editable": true
   },
   "outputs": [
    {
     "name": "stdout",
     "output_type": "stream",
     "text": [
      "[0, 1, 2, 3, 4, 5, 6, 7, 8, 9]\n",
      "[0, 1, 2, 3, 4, 5, 6, 7, 8, 9]\n",
      "Tests Passed\n"
     ]
    }
   ],
   "source": [
    "from sklearn import preprocessing\n",
    "\n",
    "def one_hot_encode(x):\n",
    "    \"\"\"\n",
    "    One hot encode a list of sample labels. Return a one-hot encoded vector for each label.\n",
    "    : x: List of sample Labels\n",
    "    : return: Numpy array of one-hot encoded labels\n",
    "    \"\"\"\n",
    "    # TODO: Implement Function\n",
    "    lb = preprocessing.LabelBinarizer()\n",
    "    lb.fit(x)\n",
    "    lb.classes_ = [0,1,2,3,4,5,6,7,8,9]\n",
    "    print(lb.classes_)\n",
    "    return lb.transform(x) \n",
    "\n",
    "\n",
    "\"\"\"\n",
    "DON'T MODIFY ANYTHING IN THIS CELL THAT IS BELOW THIS LINE\n",
    "\"\"\"\n",
    "tests.test_one_hot_encode(one_hot_encode)"
   ]
  },
  {
   "cell_type": "markdown",
   "metadata": {
    "deletable": true,
    "editable": true
   },
   "source": [
    "### Randomize Data\n",
    "As you saw from exploring the data above, the order of the samples are randomized.  It doesn't hurt to randomize it again, but you don't need to for this dataset."
   ]
  },
  {
   "cell_type": "markdown",
   "metadata": {
    "deletable": true,
    "editable": true
   },
   "source": [
    "## Preprocess all the data and save it\n",
    "Running the code cell below will preprocess all the CIFAR-10 data and save it to file. The code below also uses 10% of the training data for validation."
   ]
  },
  {
   "cell_type": "code",
   "execution_count": 5,
   "metadata": {
    "collapsed": false,
    "deletable": true,
    "editable": true
   },
   "outputs": [
    {
     "name": "stdout",
     "output_type": "stream",
     "text": [
      "[0, 1, 2, 3, 4, 5, 6, 7, 8, 9]\n",
      "[0, 1, 2, 3, 4, 5, 6, 7, 8, 9]\n",
      "[0, 1, 2, 3, 4, 5, 6, 7, 8, 9]\n",
      "[0, 1, 2, 3, 4, 5, 6, 7, 8, 9]\n",
      "[0, 1, 2, 3, 4, 5, 6, 7, 8, 9]\n",
      "[0, 1, 2, 3, 4, 5, 6, 7, 8, 9]\n",
      "[0, 1, 2, 3, 4, 5, 6, 7, 8, 9]\n"
     ]
    }
   ],
   "source": [
    "\"\"\"\n",
    "DON'T MODIFY ANYTHING IN THIS CELL\n",
    "\"\"\"\n",
    "# Preprocess Training, Validation, and Testing Data\n",
    "helper.preprocess_and_save_data(cifar10_dataset_folder_path, normalize, one_hot_encode)"
   ]
  },
  {
   "cell_type": "markdown",
   "metadata": {
    "deletable": true,
    "editable": true
   },
   "source": [
    "# Check Point\n",
    "This is your first checkpoint.  If you ever decide to come back to this notebook or have to restart the notebook, you can start from here.  The preprocessed data has been saved to disk."
   ]
  },
  {
   "cell_type": "code",
   "execution_count": 6,
   "metadata": {
    "collapsed": true,
    "deletable": true,
    "editable": true
   },
   "outputs": [],
   "source": [
    "\"\"\"\n",
    "DON'T MODIFY ANYTHING IN THIS CELL\n",
    "\"\"\"\n",
    "import pickle\n",
    "import problem_unittests as tests\n",
    "import helper\n",
    "\n",
    "# Load the Preprocessed Validation data\n",
    "valid_features, valid_labels = pickle.load(open('preprocess_validation.p', mode='rb'))"
   ]
  },
  {
   "cell_type": "markdown",
   "metadata": {
    "deletable": true,
    "editable": true
   },
   "source": [
    "## Build the network\n",
    "For the neural network, you'll build each layer into a function.  Most of the code you've seen has been outside of functions. To test your code more thoroughly, we require that you put each layer in a function.  This allows us to give you better feedback and test for simple mistakes using our unittests before you submit your project.\n",
    "\n",
    ">**Note:** If you're finding it hard to dedicate enough time for this course each week, we've provided a small shortcut to this part of the project. In the next couple of problems, you'll have the option to use classes from the [TensorFlow Layers](https://www.tensorflow.org/api_docs/python/tf/layers) or [TensorFlow Layers (contrib)](https://www.tensorflow.org/api_guides/python/contrib.layers) packages to build each layer, except the layers you build in the \"Convolutional and Max Pooling Layer\" section.  TF Layers is similar to Keras's and TFLearn's abstraction to layers, so it's easy to pickup.\n",
    "\n",
    ">However, if you would like to get the most out of this course, try to solve all the problems _without_ using anything from the TF Layers packages. You **can** still use classes from other packages that happen to have the same name as ones you find in TF Layers! For example, instead of using the TF Layers version of the `conv2d` class, [tf.layers.conv2d](https://www.tensorflow.org/api_docs/python/tf/layers/conv2d), you would want to use the TF Neural Network version of `conv2d`, [tf.nn.conv2d](https://www.tensorflow.org/api_docs/python/tf/nn/conv2d). \n",
    "\n",
    "Let's begin!\n",
    "\n",
    "### Input\n",
    "The neural network needs to read the image data, one-hot encoded labels, and dropout keep probability. Implement the following functions\n",
    "* Implement `neural_net_image_input`\n",
    " * Return a [TF Placeholder](https://www.tensorflow.org/api_docs/python/tf/placeholder)\n",
    " * Set the shape using `image_shape` with batch size set to `None`.\n",
    " * Name the TensorFlow placeholder \"x\" using the TensorFlow `name` parameter in the [TF Placeholder](https://www.tensorflow.org/api_docs/python/tf/placeholder).\n",
    "* Implement `neural_net_label_input`\n",
    " * Return a [TF Placeholder](https://www.tensorflow.org/api_docs/python/tf/placeholder)\n",
    " * Set the shape using `n_classes` with batch size set to `None`.\n",
    " * Name the TensorFlow placeholder \"y\" using the TensorFlow `name` parameter in the [TF Placeholder](https://www.tensorflow.org/api_docs/python/tf/placeholder).\n",
    "* Implement `neural_net_keep_prob_input`\n",
    " * Return a [TF Placeholder](https://www.tensorflow.org/api_docs/python/tf/placeholder) for dropout keep probability.\n",
    " * Name the TensorFlow placeholder \"keep_prob\" using the TensorFlow `name` parameter in the [TF Placeholder](https://www.tensorflow.org/api_docs/python/tf/placeholder).\n",
    "\n",
    "These names will be used at the end of the project to load your saved model.\n",
    "\n",
    "Note: `None` for shapes in TensorFlow allow for a dynamic size."
   ]
  },
  {
   "cell_type": "code",
   "execution_count": 7,
   "metadata": {
    "collapsed": false,
    "deletable": true,
    "editable": true
   },
   "outputs": [
    {
     "name": "stdout",
     "output_type": "stream",
     "text": [
      "Image Input Tests Passed.\n",
      "Label Input Tests Passed.\n",
      "Keep Prob Tests Passed.\n"
     ]
    }
   ],
   "source": [
    "import tensorflow as tf\n",
    "\n",
    "def neural_net_image_input(image_shape):\n",
    "    \"\"\"\n",
    "    Return a Tensor for a batch of image input\n",
    "    : image_shape: Shape of the images\n",
    "    : return: Tensor for image input.\n",
    "    \"\"\"\n",
    "    # TODO: Implement Function\n",
    "    return tf.placeholder(tf.float32, shape=[None]+list(image_shape), name=\"x\")\n",
    "\n",
    "\n",
    "def neural_net_label_input(n_classes):\n",
    "    \"\"\"\n",
    "    Return a Tensor for a batch of label input\n",
    "    : n_classes: Number of classes\n",
    "    : return: Tensor for label input.\n",
    "    \"\"\"\n",
    "    # TODO: Implement Function\n",
    "    return tf.placeholder(tf.float32, shape=[None, n_classes], name=\"y\")\n",
    "\n",
    "\n",
    "def neural_net_keep_prob_input():\n",
    "    \"\"\"\n",
    "    Return a Tensor for keep probability\n",
    "    : return: Tensor for keep probability.\n",
    "    \"\"\"\n",
    "    # TODO: Implement Function\n",
    "    return tf.placeholder(tf.float32, name=\"keep_prob\")\n",
    "\n",
    "\n",
    "\"\"\"\n",
    "DON'T MODIFY ANYTHING IN THIS CELL THAT IS BELOW THIS LINE\n",
    "\"\"\"\n",
    "tf.reset_default_graph()\n",
    "tests.test_nn_image_inputs(neural_net_image_input)\n",
    "tests.test_nn_label_inputs(neural_net_label_input)\n",
    "tests.test_nn_keep_prob_inputs(neural_net_keep_prob_input)"
   ]
  },
  {
   "cell_type": "markdown",
   "metadata": {
    "deletable": true,
    "editable": true
   },
   "source": [
    "### Convolution and Max Pooling Layer\n",
    "Convolution layers have a lot of success with images. For this code cell, you should implement the function `conv2d_maxpool` to apply convolution then max pooling:\n",
    "* Create the weight and bias using `conv_ksize`, `conv_num_outputs` and the shape of `x_tensor`.\n",
    "* Apply a convolution to `x_tensor` using weight and `conv_strides`.\n",
    " * We recommend you use same padding, but you're welcome to use any padding.\n",
    "* Add bias\n",
    "* Add a nonlinear activation to the convolution.\n",
    "* Apply Max Pooling using `pool_ksize` and `pool_strides`.\n",
    " * We recommend you use same padding, but you're welcome to use any padding.\n",
    "\n",
    "**Note:** You **can't** use [TensorFlow Layers](https://www.tensorflow.org/api_docs/python/tf/layers) or [TensorFlow Layers (contrib)](https://www.tensorflow.org/api_guides/python/contrib.layers) for **this** layer, but you can still use TensorFlow's [Neural Network](https://www.tensorflow.org/api_docs/python/tf/nn) package. You may still use the shortcut option for all the **other** layers."
   ]
  },
  {
   "cell_type": "code",
   "execution_count": 33,
   "metadata": {
    "collapsed": false,
    "deletable": true,
    "editable": true
   },
   "outputs": [
    {
     "name": "stdout",
     "output_type": "stream",
     "text": [
      "Tests Passed\n"
     ]
    }
   ],
   "source": [
    "def conv2d_maxpool(x_tensor, conv_num_outputs, conv_ksize, conv_strides, pool_ksize, pool_strides):\n",
    "    \"\"\"\n",
    "    Apply convolution then max pooling to x_tensor\n",
    "    :param x_tensor: TensorFlow Tensor\n",
    "    :param conv_num_outputs: Number of outputs for the convolutional layer\n",
    "    :param conv_ksize: kernal size 2-D Tuple for the convolutional layer\n",
    "    :param conv_strides: Stride 2-D Tuple for convolution\n",
    "    :param pool_ksize: kernal size 2-D Tuple for pool\n",
    "    :param pool_strides: Stride 2-D Tuple for pool\n",
    "    : return: A tensor that represents convolution and max pooling of x_tensor\n",
    "    \"\"\"\n",
    "    # TODO: Implement Function\n",
    "    \n",
    "    W = tf.Variable(tf.truncated_normal([conv_ksize[0],\n",
    "                                        conv_ksize[1],\n",
    "                                        x_tensor.get_shape().as_list()[-1],\n",
    "                                        conv_num_outputs], mean=0.0, stddev=0.1))\n",
    "    \n",
    "    b = tf.Variable(tf.zeros([conv_num_outputs]))\n",
    "    \n",
    "    layer1 = tf.nn.conv2d(x_tensor, W, \n",
    "                         strides=[1,conv_strides[0], conv_strides[1],1],\n",
    "                         padding=\"SAME\")\n",
    "    layer1b = tf.nn.bias_add(layer1, b)\n",
    "    \n",
    "    layer2 = tf.nn.relu(layer1b)\n",
    "    \n",
    "    layer3 = tf.nn.max_pool(layer2, ksize=[1, pool_ksize[0], pool_ksize[1], 1],\n",
    "                           strides=[1, pool_strides[0], pool_strides[1], 1],\n",
    "                           padding=\"SAME\")\n",
    "    \n",
    "    return layer3 \n",
    "\n",
    "\n",
    "\"\"\"\n",
    "DON'T MODIFY ANYTHING IN THIS CELL THAT IS BELOW THIS LINE\n",
    "\"\"\"\n",
    "tests.test_con_pool(conv2d_maxpool)"
   ]
  },
  {
   "cell_type": "markdown",
   "metadata": {
    "deletable": true,
    "editable": true
   },
   "source": [
    "### Flatten Layer\n",
    "Implement the `flatten` function to change the dimension of `x_tensor` from a 4-D tensor to a 2-D tensor.  The output should be the shape (*Batch Size*, *Flattened Image Size*). Shortcut option: you can use classes from the [TensorFlow Layers](https://www.tensorflow.org/api_docs/python/tf/layers) or [TensorFlow Layers (contrib)](https://www.tensorflow.org/api_guides/python/contrib.layers) packages for this layer. For more of a challenge, only use other TensorFlow packages."
   ]
  },
  {
   "cell_type": "code",
   "execution_count": 34,
   "metadata": {
    "collapsed": false,
    "deletable": true,
    "editable": true
   },
   "outputs": [
    {
     "name": "stdout",
     "output_type": "stream",
     "text": [
      "Tests Passed\n"
     ]
    }
   ],
   "source": [
    "def flatten(x_tensor):\n",
    "    \"\"\"\n",
    "    Flatten x_tensor to (Batch Size, Flattened Image Size)\n",
    "    : x_tensor: A tensor of size (Batch Size, ...), where ... are the image dimensions.\n",
    "    : return: A tensor of size (Batch Size, Flattened Image Size).\n",
    "    \"\"\"\n",
    "    # TODO: Implement Function\n",
    "\n",
    "    \n",
    "    batch_size = x_tensor.get_shape().as_list()[-1]\n",
    "    width = x_tensor.get_shape().as_list()[1]\n",
    "    height = x_tensor.get_shape().as_list()[2]\n",
    "    depth = x_tensor.get_shape().as_list()[3]\n",
    "    \n",
    "    image_flat_size = width * height * depth\n",
    "    \n",
    "    return tf.contrib.layers.flatten(x_tensor, [batch_size, image_flat_size])\n",
    "\n",
    "\n",
    "\"\"\"\n",
    "DON'T MODIFY ANYTHING IN THIS CELL THAT IS BELOW THIS LINE\n",
    "\"\"\"\n",
    "tests.test_flatten(flatten)"
   ]
  },
  {
   "cell_type": "markdown",
   "metadata": {
    "deletable": true,
    "editable": true
   },
   "source": [
    "### Fully-Connected Layer\n",
    "Implement the `fully_conn` function to apply a fully connected layer to `x_tensor` with the shape (*Batch Size*, *num_outputs*). Shortcut option: you can use classes from the [TensorFlow Layers](https://www.tensorflow.org/api_docs/python/tf/layers) or [TensorFlow Layers (contrib)](https://www.tensorflow.org/api_guides/python/contrib.layers) packages for this layer. For more of a challenge, only use other TensorFlow packages."
   ]
  },
  {
   "cell_type": "code",
   "execution_count": 35,
   "metadata": {
    "collapsed": false,
    "deletable": true,
    "editable": true
   },
   "outputs": [
    {
     "name": "stdout",
     "output_type": "stream",
     "text": [
      "Tests Passed\n"
     ]
    }
   ],
   "source": [
    "def fully_conn(x_tensor, num_outputs):\n",
    "    \"\"\"\n",
    "    Apply a fully connected layer to x_tensor using weight and bias\n",
    "    : x_tensor: A 2-D tensor where the first dimension is batch size.\n",
    "    : num_outputs: The number of output that the new tensor should be.\n",
    "    : return: A 2-D tensor where the second dimension is num_outputs.\n",
    "    \"\"\"\n",
    "    # TODO: Implement Function\n",
    "    batch = x_tensor.get_shape().as_list()[0]\n",
    "    num_inputs = x_tensor.get_shape().as_list()[1]\n",
    "    weights = tf.Variable(tf.truncated_normal([num_inputs, num_outputs], mean=0.0, stddev=0.1))\n",
    "    bias = tf.Variable(tf.zeros(num_outputs))\n",
    "    fc1 = tf.add(tf.matmul(x_tensor,weights), bias)\n",
    "    fc1 = tf.nn.relu(fc1)\n",
    "    return fc1\n",
    "    \n",
    "    \n",
    "    #return tf.contrib.layers.fully_connected(x_tensor, num_outputs, activation_fn=tf.nn.relu)\n",
    "\n",
    "\n",
    "\"\"\"\n",
    "DON'T MODIFY ANYTHING IN THIS CELL THAT IS BELOW THIS LINE\n",
    "\"\"\"\n",
    "tests.test_fully_conn(fully_conn)"
   ]
  },
  {
   "cell_type": "markdown",
   "metadata": {
    "deletable": true,
    "editable": true
   },
   "source": [
    "### Output Layer\n",
    "Implement the `output` function to apply a fully connected layer to `x_tensor` with the shape (*Batch Size*, *num_outputs*). Shortcut option: you can use classes from the [TensorFlow Layers](https://www.tensorflow.org/api_docs/python/tf/layers) or [TensorFlow Layers (contrib)](https://www.tensorflow.org/api_guides/python/contrib.layers) packages for this layer. For more of a challenge, only use other TensorFlow packages.\n",
    "\n",
    "**Note:** Activation, softmax, or cross entropy should **not** be applied to this."
   ]
  },
  {
   "cell_type": "code",
   "execution_count": 36,
   "metadata": {
    "collapsed": false,
    "deletable": true,
    "editable": true
   },
   "outputs": [
    {
     "name": "stdout",
     "output_type": "stream",
     "text": [
      "Tests Passed\n"
     ]
    }
   ],
   "source": [
    "def output(x_tensor, num_outputs):\n",
    "    \"\"\"\n",
    "    Apply a output layer to x_tensor using weight and bias\n",
    "    : x_tensor: A 2-D tensor where the first dimension is batch size.\n",
    "    : num_outputs: The number of output that the new tensor should be.\n",
    "    : return: A 2-D tensor where the second dimension is num_outputs.\n",
    "    \"\"\"\n",
    "    # TODO: Implement Function\n",
    "    batch_size = x_tensor.get_shape().as_list()[1]\n",
    "    weight = tf.Variable(tf.random_normal([batch_size, num_outputs], mean=0.0, stddev=0.1))\n",
    "    bias = tf.Variable(tf.zeros(num_outputs))\n",
    "    output_layer = tf.add(tf.matmul(x_tensor, weight), bias)\n",
    "    return output_layer\n",
    "    \n",
    "    \n",
    "    #return tf.contrib.layers.fully_connected(x_tensor, num_outputs)\n",
    "\n",
    "\n",
    "\"\"\"\n",
    "DON'T MODIFY ANYTHING IN THIS CELL THAT IS BELOW THIS LINE\n",
    "\"\"\"\n",
    "tests.test_output(output)"
   ]
  },
  {
   "cell_type": "markdown",
   "metadata": {
    "deletable": true,
    "editable": true
   },
   "source": [
    "### Create Convolutional Model\n",
    "Implement the function `conv_net` to create a convolutional neural network model. The function takes in a batch of images, `x`, and outputs logits.  Use the layers you created above to create this model:\n",
    "\n",
    "* Apply 1, 2, or 3 Convolution and Max Pool layers\n",
    "* Apply a Flatten Layer\n",
    "* Apply 1, 2, or 3 Fully Connected Layers\n",
    "* Apply an Output Layer\n",
    "* Return the output\n",
    "* Apply [TensorFlow's Dropout](https://www.tensorflow.org/api_docs/python/tf/nn/dropout) to one or more layers in the model using `keep_prob`. "
   ]
  },
  {
   "cell_type": "code",
   "execution_count": 37,
   "metadata": {
    "collapsed": false,
    "deletable": true,
    "editable": true
   },
   "outputs": [
    {
     "name": "stdout",
     "output_type": "stream",
     "text": [
      "Neural Network Built!\n"
     ]
    }
   ],
   "source": [
    "def conv_net(x, keep_prob):\n",
    "    \"\"\"\n",
    "    Create a convolutional neural network model\n",
    "    : x: Placeholder tensor that holds image data.\n",
    "    : keep_prob: Placeholder tensor that hold dropout keep probability.\n",
    "    : return: Tensor that represents logits\n",
    "    \"\"\"\n",
    "    # TODO: Apply 1, 2, or 3 Convolution and Max Pool layers\n",
    "    #    Play around with different number of outputs, kernel size and stride\n",
    "    # Function Definition from Above:\n",
    "    #    conv2d_maxpool(x_tensor, conv_num_outputs, conv_ksize, conv_strides, pool_ksize, pool_strides)\n",
    "    \n",
    "\n",
    "    # TODO: Apply a Flatten Layer\n",
    "    # Function Definition from Above:\n",
    "    #   flatten(x_tensor)\n",
    "    \n",
    "\n",
    "    # TODO: Apply 1, 2, or 3 Fully Connected Layers\n",
    "    #    Play around with different number of outputs\n",
    "    # Function Definition from Above:\n",
    "    #   fully_conn(x_tensor, num_outputs)\n",
    "    \n",
    "    \n",
    "    # TODO: Apply an Output Layer\n",
    "    #    Set this to the number of classes\n",
    "    # Function Definition from Above:\n",
    "    #   output(x_tensor, num_outputs)\n",
    "    x_tensor = x\n",
    "    conv_num_outputs = 128\n",
    "    conv_ksize = (4,4)\n",
    "    conv_strides = (2,2)\n",
    "    pool_ksize = (3,3)\n",
    "    pool_strides = (2,2)\n",
    "    \n",
    "    \n",
    "    \n",
    "    # TODO: return output\n",
    "    conv2d_layer = conv2d_maxpool(x_tensor, conv_num_outputs, conv_ksize, conv_strides, pool_ksize, pool_strides)\n",
    "    \n",
    "    flatten_layer = flatten(conv2d_layer)\n",
    "    \n",
    "    num_outputs = 10\n",
    "    fully_connected_layer = fully_conn(flatten_layer, num_outputs)\n",
    "    #fully_connected_layer = tf.nn.dropout(fully_connected_layer, keep_prob)\n",
    "    \n",
    "    return output(fully_connected_layer, num_outputs)\n",
    "\n",
    "    \n",
    "    \n",
    "    #return None\n",
    "\n",
    "\n",
    "\"\"\"\n",
    "DON'T MODIFY ANYTHING IN THIS CELL THAT IS BELOW THIS LINE\n",
    "\"\"\"\n",
    "\n",
    "##############################\n",
    "## Build the Neural Network ##\n",
    "##############################\n",
    "\n",
    "# Remove previous weights, bias, inputs, etc..\n",
    "tf.reset_default_graph()\n",
    "\n",
    "# Inputs\n",
    "x = neural_net_image_input((32, 32, 3))\n",
    "y = neural_net_label_input(10)\n",
    "keep_prob = neural_net_keep_prob_input()\n",
    "\n",
    "# Model\n",
    "logits = conv_net(x, keep_prob)\n",
    "\n",
    "# Name logits Tensor, so that is can be loaded from disk after training\n",
    "logits = tf.identity(logits, name='logits')\n",
    "\n",
    "# Loss and Optimizer\n",
    "cost = tf.reduce_mean(tf.nn.softmax_cross_entropy_with_logits(logits=logits, labels=y))\n",
    "optimizer = tf.train.AdamOptimizer().minimize(cost)\n",
    "\n",
    "# Accuracy\n",
    "correct_pred = tf.equal(tf.argmax(logits, 1), tf.argmax(y, 1))\n",
    "accuracy = tf.reduce_mean(tf.cast(correct_pred, tf.float32), name='accuracy')\n",
    "\n",
    "tests.test_conv_net(conv_net)"
   ]
  },
  {
   "cell_type": "markdown",
   "metadata": {
    "deletable": true,
    "editable": true
   },
   "source": [
    "## Train the Neural Network\n",
    "### Single Optimization\n",
    "Implement the function `train_neural_network` to do a single optimization.  The optimization should use `optimizer` to optimize in `session` with a `feed_dict` of the following:\n",
    "* `x` for image input\n",
    "* `y` for labels\n",
    "* `keep_prob` for keep probability for dropout\n",
    "\n",
    "This function will be called for each batch, so `tf.global_variables_initializer()` has already been called.\n",
    "\n",
    "Note: Nothing needs to be returned. This function is only optimizing the neural network."
   ]
  },
  {
   "cell_type": "code",
   "execution_count": 38,
   "metadata": {
    "collapsed": false,
    "deletable": true,
    "editable": true
   },
   "outputs": [
    {
     "name": "stdout",
     "output_type": "stream",
     "text": [
      "Tests Passed\n"
     ]
    }
   ],
   "source": [
    "def train_neural_network(session, optimizer, keep_probability, feature_batch, label_batch):\n",
    "    \"\"\"\n",
    "    Optimize the session on a batch of images and labels\n",
    "    : session: Current TensorFlow session\n",
    "    : optimizer: TensorFlow optimizer function\n",
    "    : keep_probability: keep probability\n",
    "    : feature_batch: Batch of Numpy image data\n",
    "    : label_batch: Batch of Numpy label data\n",
    "    \"\"\"\n",
    "    # TODO: Implement Function\n",
    "    \n",
    "    session.run(optimizer, feed_dict={x: feature_batch, y: label_batch, keep_prob: keep_probability})\n",
    "    pass\n",
    "\n",
    "\n",
    "\"\"\"\n",
    "DON'T MODIFY ANYTHING IN THIS CELL THAT IS BELOW THIS LINE\n",
    "\"\"\"\n",
    "tests.test_train_nn(train_neural_network)"
   ]
  },
  {
   "cell_type": "markdown",
   "metadata": {
    "deletable": true,
    "editable": true
   },
   "source": [
    "### Show Stats\n",
    "Implement the function `print_stats` to print loss and validation accuracy.  Use the global variables `valid_features` and `valid_labels` to calculate validation accuracy.  Use a keep probability of `1.0` to calculate the loss and validation accuracy."
   ]
  },
  {
   "cell_type": "code",
   "execution_count": 39,
   "metadata": {
    "collapsed": false,
    "deletable": true,
    "editable": true
   },
   "outputs": [],
   "source": [
    "def print_stats(session, feature_batch, label_batch, cost, accuracy):\n",
    "    \"\"\"\n",
    "    Print information about loss and validation accuracy\n",
    "    : session: Current TensorFlow session\n",
    "    : feature_batch: Batch of Numpy image data\n",
    "    : label_batch: Batch of Numpy label data\n",
    "    : cost: TensorFlow cost function\n",
    "    : accuracy: TensorFlow accuracy function\n",
    "    \"\"\"\n",
    "    # TODO: Implement Function\n",
    "    loss = session.run(cost, feed_dict={x: feature_batch, y: label_batch, keep_prob: 1.0})\n",
    "    acc = session.run(accuracy, feed_dict={x: valid_features, y: valid_labels, keep_prob: 1.0})\n",
    "    print(\"Loss:{:>10.4f}Accuracy:{:.6f}\".format(loss,acc))\n",
    "    \n",
    "    pass"
   ]
  },
  {
   "cell_type": "markdown",
   "metadata": {
    "deletable": true,
    "editable": true
   },
   "source": [
    "### Hyperparameters\n",
    "Tune the following parameters:\n",
    "* Set `epochs` to the number of iterations until the network stops learning or start overfitting\n",
    "* Set `batch_size` to the highest number that your machine has memory for.  Most people set them to common sizes of memory:\n",
    " * 64\n",
    " * 128\n",
    " * 256\n",
    " * ...\n",
    "* Set `keep_probability` to the probability of keeping a node using dropout"
   ]
  },
  {
   "cell_type": "code",
   "execution_count": 50,
   "metadata": {
    "collapsed": true,
    "deletable": true,
    "editable": true
   },
   "outputs": [],
   "source": [
    "# TODO: Tune Parameters\n",
    "epochs = 50\n",
    "batch_size = 256\n",
    "keep_probability = 0.7\n",
    "stddev = 0.1"
   ]
  },
  {
   "cell_type": "markdown",
   "metadata": {
    "deletable": true,
    "editable": true
   },
   "source": [
    "### Train on a Single CIFAR-10 Batch\n",
    "Instead of training the neural network on all the CIFAR-10 batches of data, let's use a single batch. This should save time while you iterate on the model to get a better accuracy.  Once the final validation accuracy is 50% or greater, run the model on all the data in the next section."
   ]
  },
  {
   "cell_type": "code",
   "execution_count": 51,
   "metadata": {
    "collapsed": false,
    "deletable": true,
    "editable": true
   },
   "outputs": [
    {
     "name": "stdout",
     "output_type": "stream",
     "text": [
      "Checking the Training on a Single Batch...\n",
      "Epoch  1, CIFAR-10 Batch 1:  Loss:    2.2736Accuracy:0.176000\n",
      "Epoch  2, CIFAR-10 Batch 1:  Loss:    2.1916Accuracy:0.198200\n",
      "Epoch  3, CIFAR-10 Batch 1:  Loss:    2.1260Accuracy:0.200400\n",
      "Epoch  4, CIFAR-10 Batch 1:  Loss:    2.0888Accuracy:0.219600\n",
      "Epoch  5, CIFAR-10 Batch 1:  Loss:    2.0621Accuracy:0.268600\n",
      "Epoch  6, CIFAR-10 Batch 1:  Loss:    1.9771Accuracy:0.313400\n",
      "Epoch  7, CIFAR-10 Batch 1:  Loss:    1.9169Accuracy:0.321000\n",
      "Epoch  8, CIFAR-10 Batch 1:  Loss:    1.8317Accuracy:0.340200\n",
      "Epoch  9, CIFAR-10 Batch 1:  Loss:    1.7573Accuracy:0.362000\n",
      "Epoch 10, CIFAR-10 Batch 1:  Loss:    1.6627Accuracy:0.368600\n",
      "Epoch 11, CIFAR-10 Batch 1:  Loss:    1.5757Accuracy:0.384000\n",
      "Epoch 12, CIFAR-10 Batch 1:  Loss:    1.4975Accuracy:0.427400\n",
      "Epoch 13, CIFAR-10 Batch 1:  Loss:    1.4483Accuracy:0.446000\n",
      "Epoch 14, CIFAR-10 Batch 1:  Loss:    1.3791Accuracy:0.459200\n",
      "Epoch 15, CIFAR-10 Batch 1:  Loss:    1.3000Accuracy:0.470200\n",
      "Epoch 16, CIFAR-10 Batch 1:  Loss:    1.2396Accuracy:0.477400\n",
      "Epoch 17, CIFAR-10 Batch 1:  Loss:    1.1777Accuracy:0.481200\n",
      "Epoch 18, CIFAR-10 Batch 1:  Loss:    1.1217Accuracy:0.484600\n",
      "Epoch 19, CIFAR-10 Batch 1:  Loss:    1.0861Accuracy:0.488000\n",
      "Epoch 20, CIFAR-10 Batch 1:  Loss:    1.0485Accuracy:0.492800\n",
      "Epoch 21, CIFAR-10 Batch 1:  Loss:    1.0138Accuracy:0.495800\n",
      "Epoch 22, CIFAR-10 Batch 1:  Loss:    0.9765Accuracy:0.496600\n",
      "Epoch 23, CIFAR-10 Batch 1:  Loss:    0.9509Accuracy:0.496600\n",
      "Epoch 24, CIFAR-10 Batch 1:  Loss:    0.9218Accuracy:0.498400\n",
      "Epoch 25, CIFAR-10 Batch 1:  Loss:    0.8949Accuracy:0.501800\n",
      "Epoch 26, CIFAR-10 Batch 1:  Loss:    0.8671Accuracy:0.502600\n",
      "Epoch 27, CIFAR-10 Batch 1:  Loss:    0.8417Accuracy:0.507600\n",
      "Epoch 28, CIFAR-10 Batch 1:  Loss:    0.8182Accuracy:0.509000\n",
      "Epoch 29, CIFAR-10 Batch 1:  Loss:    0.7914Accuracy:0.511800\n",
      "Epoch 30, CIFAR-10 Batch 1:  Loss:    0.7693Accuracy:0.512200\n",
      "Epoch 31, CIFAR-10 Batch 1:  Loss:    0.7479Accuracy:0.514600\n",
      "Epoch 32, CIFAR-10 Batch 1:  Loss:    0.7281Accuracy:0.515400\n",
      "Epoch 33, CIFAR-10 Batch 1:  Loss:    0.7084Accuracy:0.517200\n",
      "Epoch 34, CIFAR-10 Batch 1:  Loss:    0.6898Accuracy:0.520000\n",
      "Epoch 35, CIFAR-10 Batch 1:  Loss:    0.6718Accuracy:0.521200\n",
      "Epoch 36, CIFAR-10 Batch 1:  Loss:    0.6563Accuracy:0.522600\n",
      "Epoch 37, CIFAR-10 Batch 1:  Loss:    0.6416Accuracy:0.524200\n",
      "Epoch 38, CIFAR-10 Batch 1:  Loss:    0.6280Accuracy:0.526600\n",
      "Epoch 39, CIFAR-10 Batch 1:  Loss:    0.6137Accuracy:0.526800\n",
      "Epoch 40, CIFAR-10 Batch 1:  Loss:    0.6004Accuracy:0.529200\n",
      "Epoch 41, CIFAR-10 Batch 1:  Loss:    0.5866Accuracy:0.529800\n",
      "Epoch 42, CIFAR-10 Batch 1:  Loss:    0.5773Accuracy:0.529400\n",
      "Epoch 43, CIFAR-10 Batch 1:  Loss:    0.5650Accuracy:0.528600\n",
      "Epoch 44, CIFAR-10 Batch 1:  Loss:    0.5547Accuracy:0.530200\n",
      "Epoch 45, CIFAR-10 Batch 1:  Loss:    0.5447Accuracy:0.528400\n",
      "Epoch 46, CIFAR-10 Batch 1:  Loss:    0.5346Accuracy:0.527000\n",
      "Epoch 47, CIFAR-10 Batch 1:  Loss:    0.5248Accuracy:0.525000\n",
      "Epoch 48, CIFAR-10 Batch 1:  Loss:    0.5163Accuracy:0.522400\n",
      "Epoch 49, CIFAR-10 Batch 1:  Loss:    0.5085Accuracy:0.522000\n",
      "Epoch 50, CIFAR-10 Batch 1:  Loss:    0.4976Accuracy:0.524600\n"
     ]
    }
   ],
   "source": [
    "\"\"\"\n",
    "DON'T MODIFY ANYTHING IN THIS CELL\n",
    "\"\"\"\n",
    "print('Checking the Training on a Single Batch...')\n",
    "with tf.Session() as sess:\n",
    "    # Initializing the variables\n",
    "    sess.run(tf.global_variables_initializer())\n",
    "    \n",
    "    # Training cycle\n",
    "    for epoch in range(epochs):\n",
    "        batch_i = 1\n",
    "        for batch_features, batch_labels in helper.load_preprocess_training_batch(batch_i, batch_size):\n",
    "            train_neural_network(sess, optimizer, keep_probability, batch_features, batch_labels)\n",
    "        print('Epoch {:>2}, CIFAR-10 Batch {}:  '.format(epoch + 1, batch_i), end='')\n",
    "        print_stats(sess, batch_features, batch_labels, cost, accuracy)"
   ]
  },
  {
   "cell_type": "markdown",
   "metadata": {
    "deletable": true,
    "editable": true
   },
   "source": [
    "### Fully Train the Model\n",
    "Now that you got a good accuracy with a single CIFAR-10 batch, try it with all five batches."
   ]
  },
  {
   "cell_type": "code",
   "execution_count": 52,
   "metadata": {
    "collapsed": false,
    "deletable": true,
    "editable": true
   },
   "outputs": [
    {
     "name": "stdout",
     "output_type": "stream",
     "text": [
      "Training...\n",
      "Epoch  1, CIFAR-10 Batch 1:  Loss:    2.2611Accuracy:0.175400\n",
      "Epoch  1, CIFAR-10 Batch 2:  Loss:    2.1098Accuracy:0.179200\n",
      "Epoch  1, CIFAR-10 Batch 3:  Loss:    1.9054Accuracy:0.202600\n",
      "Epoch  1, CIFAR-10 Batch 4:  Loss:    1.7893Accuracy:0.262800\n",
      "Epoch  1, CIFAR-10 Batch 5:  Loss:    1.8087Accuracy:0.319200\n",
      "Epoch  2, CIFAR-10 Batch 1:  Loss:    1.8578Accuracy:0.348200\n",
      "Epoch  2, CIFAR-10 Batch 2:  Loss:    1.6916Accuracy:0.367000\n",
      "Epoch  2, CIFAR-10 Batch 3:  Loss:    1.4406Accuracy:0.355200\n",
      "Epoch  2, CIFAR-10 Batch 4:  Loss:    1.5156Accuracy:0.358600\n",
      "Epoch  2, CIFAR-10 Batch 5:  Loss:    1.5835Accuracy:0.391400\n",
      "Epoch  3, CIFAR-10 Batch 1:  Loss:    1.6909Accuracy:0.396200\n",
      "Epoch  3, CIFAR-10 Batch 2:  Loss:    1.5808Accuracy:0.411800\n",
      "Epoch  3, CIFAR-10 Batch 3:  Loss:    1.3420Accuracy:0.402000\n",
      "Epoch  3, CIFAR-10 Batch 4:  Loss:    1.4374Accuracy:0.388800\n",
      "Epoch  3, CIFAR-10 Batch 5:  Loss:    1.4884Accuracy:0.416800\n",
      "Epoch  4, CIFAR-10 Batch 1:  Loss:    1.5710Accuracy:0.408000\n",
      "Epoch  4, CIFAR-10 Batch 2:  Loss:    1.4973Accuracy:0.414400\n",
      "Epoch  4, CIFAR-10 Batch 3:  Loss:    1.2806Accuracy:0.437200\n",
      "Epoch  4, CIFAR-10 Batch 4:  Loss:    1.3908Accuracy:0.432800\n",
      "Epoch  4, CIFAR-10 Batch 5:  Loss:    1.3947Accuracy:0.428200\n",
      "Epoch  5, CIFAR-10 Batch 1:  Loss:    1.5158Accuracy:0.434600\n",
      "Epoch  5, CIFAR-10 Batch 2:  Loss:    1.4410Accuracy:0.425200\n",
      "Epoch  5, CIFAR-10 Batch 3:  Loss:    1.2120Accuracy:0.450000\n",
      "Epoch  5, CIFAR-10 Batch 4:  Loss:    1.3264Accuracy:0.446200\n",
      "Epoch  5, CIFAR-10 Batch 5:  Loss:    1.3241Accuracy:0.443600\n",
      "Epoch  6, CIFAR-10 Batch 1:  Loss:    1.4668Accuracy:0.447000\n",
      "Epoch  6, CIFAR-10 Batch 2:  Loss:    1.3832Accuracy:0.439000\n",
      "Epoch  6, CIFAR-10 Batch 3:  Loss:    1.1516Accuracy:0.458200\n",
      "Epoch  6, CIFAR-10 Batch 4:  Loss:    1.2797Accuracy:0.451200\n",
      "Epoch  6, CIFAR-10 Batch 5:  Loss:    1.2664Accuracy:0.455000\n",
      "Epoch  7, CIFAR-10 Batch 1:  Loss:    1.4148Accuracy:0.452800\n",
      "Epoch  7, CIFAR-10 Batch 2:  Loss:    1.3323Accuracy:0.453600\n",
      "Epoch  7, CIFAR-10 Batch 3:  Loss:    1.1042Accuracy:0.470000\n",
      "Epoch  7, CIFAR-10 Batch 4:  Loss:    1.2415Accuracy:0.457400\n",
      "Epoch  7, CIFAR-10 Batch 5:  Loss:    1.2168Accuracy:0.463000\n",
      "Epoch  8, CIFAR-10 Batch 1:  Loss:    1.3586Accuracy:0.461800\n",
      "Epoch  8, CIFAR-10 Batch 2:  Loss:    1.2896Accuracy:0.464000\n",
      "Epoch  8, CIFAR-10 Batch 3:  Loss:    1.0658Accuracy:0.479200\n",
      "Epoch  8, CIFAR-10 Batch 4:  Loss:    1.2110Accuracy:0.460600\n",
      "Epoch  8, CIFAR-10 Batch 5:  Loss:    1.1686Accuracy:0.471800\n",
      "Epoch  9, CIFAR-10 Batch 1:  Loss:    1.3086Accuracy:0.470800\n",
      "Epoch  9, CIFAR-10 Batch 2:  Loss:    1.2516Accuracy:0.471800\n",
      "Epoch  9, CIFAR-10 Batch 3:  Loss:    1.0341Accuracy:0.481200\n",
      "Epoch  9, CIFAR-10 Batch 4:  Loss:    1.1771Accuracy:0.469600\n",
      "Epoch  9, CIFAR-10 Batch 5:  Loss:    1.1332Accuracy:0.477600\n",
      "Epoch 10, CIFAR-10 Batch 1:  Loss:    1.2609Accuracy:0.476400\n",
      "Epoch 10, CIFAR-10 Batch 2:  Loss:    1.2148Accuracy:0.475600\n",
      "Epoch 10, CIFAR-10 Batch 3:  Loss:    1.0043Accuracy:0.491800\n",
      "Epoch 10, CIFAR-10 Batch 4:  Loss:    1.1481Accuracy:0.481600\n",
      "Epoch 10, CIFAR-10 Batch 5:  Loss:    1.1006Accuracy:0.481800\n",
      "Epoch 11, CIFAR-10 Batch 1:  Loss:    1.2134Accuracy:0.483600\n",
      "Epoch 11, CIFAR-10 Batch 2:  Loss:    1.1642Accuracy:0.489600\n",
      "Epoch 11, CIFAR-10 Batch 3:  Loss:    0.9487Accuracy:0.507400\n",
      "Epoch 11, CIFAR-10 Batch 4:  Loss:    1.1214Accuracy:0.507200\n",
      "Epoch 11, CIFAR-10 Batch 5:  Loss:    1.0311Accuracy:0.500400\n",
      "Epoch 12, CIFAR-10 Batch 1:  Loss:    1.1045Accuracy:0.525800\n",
      "Epoch 12, CIFAR-10 Batch 2:  Loss:    1.0741Accuracy:0.529400\n",
      "Epoch 12, CIFAR-10 Batch 3:  Loss:    0.8690Accuracy:0.544200\n",
      "Epoch 12, CIFAR-10 Batch 4:  Loss:    1.0518Accuracy:0.540000\n",
      "Epoch 12, CIFAR-10 Batch 5:  Loss:    0.9906Accuracy:0.535000\n",
      "Epoch 13, CIFAR-10 Batch 1:  Loss:    1.0448Accuracy:0.545800\n",
      "Epoch 13, CIFAR-10 Batch 2:  Loss:    0.9852Accuracy:0.551000\n",
      "Epoch 13, CIFAR-10 Batch 3:  Loss:    0.8041Accuracy:0.553200\n",
      "Epoch 13, CIFAR-10 Batch 4:  Loss:    0.9955Accuracy:0.546000\n",
      "Epoch 13, CIFAR-10 Batch 5:  Loss:    0.9535Accuracy:0.548600\n",
      "Epoch 14, CIFAR-10 Batch 1:  Loss:    0.9938Accuracy:0.551800\n",
      "Epoch 14, CIFAR-10 Batch 2:  Loss:    0.9279Accuracy:0.558400\n",
      "Epoch 14, CIFAR-10 Batch 3:  Loss:    0.7590Accuracy:0.562400\n",
      "Epoch 14, CIFAR-10 Batch 4:  Loss:    0.9499Accuracy:0.549400\n",
      "Epoch 14, CIFAR-10 Batch 5:  Loss:    0.9248Accuracy:0.548800\n",
      "Epoch 15, CIFAR-10 Batch 1:  Loss:    0.9477Accuracy:0.556800\n",
      "Epoch 15, CIFAR-10 Batch 2:  Loss:    0.8884Accuracy:0.565800\n",
      "Epoch 15, CIFAR-10 Batch 3:  Loss:    0.7322Accuracy:0.569200\n",
      "Epoch 15, CIFAR-10 Batch 4:  Loss:    0.9152Accuracy:0.557800\n",
      "Epoch 15, CIFAR-10 Batch 5:  Loss:    0.9067Accuracy:0.552800\n",
      "Epoch 16, CIFAR-10 Batch 1:  Loss:    0.9035Accuracy:0.556800\n",
      "Epoch 16, CIFAR-10 Batch 2:  Loss:    0.8542Accuracy:0.571000\n",
      "Epoch 16, CIFAR-10 Batch 3:  Loss:    0.7085Accuracy:0.573400\n",
      "Epoch 16, CIFAR-10 Batch 4:  Loss:    0.8823Accuracy:0.561600\n",
      "Epoch 16, CIFAR-10 Batch 5:  Loss:    0.8858Accuracy:0.556200\n",
      "Epoch 17, CIFAR-10 Batch 1:  Loss:    0.8726Accuracy:0.558000\n",
      "Epoch 17, CIFAR-10 Batch 2:  Loss:    0.8276Accuracy:0.574000\n",
      "Epoch 17, CIFAR-10 Batch 3:  Loss:    0.6917Accuracy:0.579200\n",
      "Epoch 17, CIFAR-10 Batch 4:  Loss:    0.8547Accuracy:0.565600\n",
      "Epoch 17, CIFAR-10 Batch 5:  Loss:    0.8645Accuracy:0.559200\n",
      "Epoch 18, CIFAR-10 Batch 1:  Loss:    0.8446Accuracy:0.561400\n",
      "Epoch 18, CIFAR-10 Batch 2:  Loss:    0.7995Accuracy:0.578400\n",
      "Epoch 18, CIFAR-10 Batch 3:  Loss:    0.6751Accuracy:0.582600\n",
      "Epoch 18, CIFAR-10 Batch 4:  Loss:    0.8264Accuracy:0.569200\n",
      "Epoch 18, CIFAR-10 Batch 5:  Loss:    0.8402Accuracy:0.562000\n",
      "Epoch 19, CIFAR-10 Batch 1:  Loss:    0.8127Accuracy:0.564400\n",
      "Epoch 19, CIFAR-10 Batch 2:  Loss:    0.7767Accuracy:0.583000\n",
      "Epoch 19, CIFAR-10 Batch 3:  Loss:    0.6583Accuracy:0.586200\n",
      "Epoch 19, CIFAR-10 Batch 4:  Loss:    0.8014Accuracy:0.571200\n",
      "Epoch 19, CIFAR-10 Batch 5:  Loss:    0.8179Accuracy:0.563000\n",
      "Epoch 20, CIFAR-10 Batch 1:  Loss:    0.7874Accuracy:0.566400\n",
      "Epoch 20, CIFAR-10 Batch 2:  Loss:    0.7556Accuracy:0.586400\n",
      "Epoch 20, CIFAR-10 Batch 3:  Loss:    0.6416Accuracy:0.589000\n",
      "Epoch 20, CIFAR-10 Batch 4:  Loss:    0.7758Accuracy:0.576000\n",
      "Epoch 20, CIFAR-10 Batch 5:  Loss:    0.7963Accuracy:0.564200\n",
      "Epoch 21, CIFAR-10 Batch 1:  Loss:    0.7650Accuracy:0.571200\n",
      "Epoch 21, CIFAR-10 Batch 2:  Loss:    0.7362Accuracy:0.588400\n",
      "Epoch 21, CIFAR-10 Batch 3:  Loss:    0.6247Accuracy:0.588800\n",
      "Epoch 21, CIFAR-10 Batch 4:  Loss:    0.7557Accuracy:0.577600\n",
      "Epoch 21, CIFAR-10 Batch 5:  Loss:    0.7731Accuracy:0.565000\n",
      "Epoch 22, CIFAR-10 Batch 1:  Loss:    0.7426Accuracy:0.572200\n",
      "Epoch 22, CIFAR-10 Batch 2:  Loss:    0.7154Accuracy:0.591400\n",
      "Epoch 22, CIFAR-10 Batch 3:  Loss:    0.6115Accuracy:0.588800\n",
      "Epoch 22, CIFAR-10 Batch 4:  Loss:    0.7348Accuracy:0.581200\n",
      "Epoch 22, CIFAR-10 Batch 5:  Loss:    0.7511Accuracy:0.567200\n",
      "Epoch 23, CIFAR-10 Batch 1:  Loss:    0.7238Accuracy:0.573200\n",
      "Epoch 23, CIFAR-10 Batch 2:  Loss:    0.6971Accuracy:0.592800\n",
      "Epoch 23, CIFAR-10 Batch 3:  Loss:    0.5966Accuracy:0.591800\n",
      "Epoch 23, CIFAR-10 Batch 4:  Loss:    0.7159Accuracy:0.583400\n",
      "Epoch 23, CIFAR-10 Batch 5:  Loss:    0.7301Accuracy:0.571400\n",
      "Epoch 24, CIFAR-10 Batch 1:  Loss:    0.7065Accuracy:0.577000\n",
      "Epoch 24, CIFAR-10 Batch 2:  Loss:    0.6791Accuracy:0.594400\n",
      "Epoch 24, CIFAR-10 Batch 3:  Loss:    0.5831Accuracy:0.594000\n",
      "Epoch 24, CIFAR-10 Batch 4:  Loss:    0.7005Accuracy:0.586600\n",
      "Epoch 24, CIFAR-10 Batch 5:  Loss:    0.7123Accuracy:0.573200\n",
      "Epoch 25, CIFAR-10 Batch 1:  Loss:    0.6875Accuracy:0.578600\n",
      "Epoch 25, CIFAR-10 Batch 2:  Loss:    0.6619Accuracy:0.595000\n",
      "Epoch 25, CIFAR-10 Batch 3:  Loss:    0.5699Accuracy:0.592800\n",
      "Epoch 25, CIFAR-10 Batch 4:  Loss:    0.6874Accuracy:0.588200\n",
      "Epoch 25, CIFAR-10 Batch 5:  Loss:    0.6961Accuracy:0.574000\n",
      "Epoch 26, CIFAR-10 Batch 1:  Loss:    0.6688Accuracy:0.578800\n",
      "Epoch 26, CIFAR-10 Batch 2:  Loss:    0.6457Accuracy:0.596400\n",
      "Epoch 26, CIFAR-10 Batch 3:  Loss:    0.5574Accuracy:0.594000\n",
      "Epoch 26, CIFAR-10 Batch 4:  Loss:    0.6711Accuracy:0.591000\n",
      "Epoch 26, CIFAR-10 Batch 5:  Loss:    0.6803Accuracy:0.576600\n",
      "Epoch 27, CIFAR-10 Batch 1:  Loss:    0.6544Accuracy:0.579600\n",
      "Epoch 27, CIFAR-10 Batch 2:  Loss:    0.6302Accuracy:0.597400\n",
      "Epoch 27, CIFAR-10 Batch 3:  Loss:    0.5443Accuracy:0.596800\n",
      "Epoch 27, CIFAR-10 Batch 4:  Loss:    0.6582Accuracy:0.591600\n",
      "Epoch 27, CIFAR-10 Batch 5:  Loss:    0.6643Accuracy:0.578600\n",
      "Epoch 28, CIFAR-10 Batch 1:  Loss:    0.6375Accuracy:0.582200\n",
      "Epoch 28, CIFAR-10 Batch 2:  Loss:    0.6159Accuracy:0.599000\n",
      "Epoch 28, CIFAR-10 Batch 3:  Loss:    0.5330Accuracy:0.599400\n",
      "Epoch 28, CIFAR-10 Batch 4:  Loss:    0.6460Accuracy:0.594000\n",
      "Epoch 28, CIFAR-10 Batch 5:  Loss:    0.6490Accuracy:0.577400\n",
      "Epoch 29, CIFAR-10 Batch 1:  Loss:    0.6234Accuracy:0.585200\n",
      "Epoch 29, CIFAR-10 Batch 2:  Loss:    0.6033Accuracy:0.599800\n",
      "Epoch 29, CIFAR-10 Batch 3:  Loss:    0.5211Accuracy:0.600800\n",
      "Epoch 29, CIFAR-10 Batch 4:  Loss:    0.6337Accuracy:0.596800\n",
      "Epoch 29, CIFAR-10 Batch 5:  Loss:    0.6326Accuracy:0.578200\n",
      "Epoch 30, CIFAR-10 Batch 1:  Loss:    0.6064Accuracy:0.584800\n",
      "Epoch 30, CIFAR-10 Batch 2:  Loss:    0.5945Accuracy:0.599400\n",
      "Epoch 30, CIFAR-10 Batch 3:  Loss:    0.5098Accuracy:0.600800\n",
      "Epoch 30, CIFAR-10 Batch 4:  Loss:    0.6218Accuracy:0.598000\n",
      "Epoch 30, CIFAR-10 Batch 5:  Loss:    0.6143Accuracy:0.581800\n",
      "Epoch 31, CIFAR-10 Batch 1:  Loss:    0.5926Accuracy:0.587800\n",
      "Epoch 31, CIFAR-10 Batch 2:  Loss:    0.5825Accuracy:0.600000\n",
      "Epoch 31, CIFAR-10 Batch 3:  Loss:    0.4998Accuracy:0.600200\n",
      "Epoch 31, CIFAR-10 Batch 4:  Loss:    0.6123Accuracy:0.596800\n",
      "Epoch 31, CIFAR-10 Batch 5:  Loss:    0.5996Accuracy:0.582800\n",
      "Epoch 32, CIFAR-10 Batch 1:  Loss:    0.5788Accuracy:0.587200\n",
      "Epoch 32, CIFAR-10 Batch 2:  Loss:    0.5726Accuracy:0.599400\n",
      "Epoch 32, CIFAR-10 Batch 3:  Loss:    0.4909Accuracy:0.600400\n",
      "Epoch 32, CIFAR-10 Batch 4:  Loss:    0.6007Accuracy:0.599400\n",
      "Epoch 32, CIFAR-10 Batch 5:  Loss:    0.5839Accuracy:0.583600\n",
      "Epoch 33, CIFAR-10 Batch 1:  Loss:    0.5644Accuracy:0.590400\n",
      "Epoch 33, CIFAR-10 Batch 2:  Loss:    0.5621Accuracy:0.598000\n",
      "Epoch 33, CIFAR-10 Batch 3:  Loss:    0.4788Accuracy:0.600600\n",
      "Epoch 33, CIFAR-10 Batch 4:  Loss:    0.5927Accuracy:0.599000\n",
      "Epoch 33, CIFAR-10 Batch 5:  Loss:    0.5669Accuracy:0.587000\n",
      "Epoch 34, CIFAR-10 Batch 1:  Loss:    0.5513Accuracy:0.589800\n",
      "Epoch 34, CIFAR-10 Batch 2:  Loss:    0.5532Accuracy:0.599400\n",
      "Epoch 34, CIFAR-10 Batch 3:  Loss:    0.4700Accuracy:0.604000\n",
      "Epoch 34, CIFAR-10 Batch 4:  Loss:    0.5849Accuracy:0.601200\n",
      "Epoch 34, CIFAR-10 Batch 5:  Loss:    0.5555Accuracy:0.587800\n",
      "Epoch 35, CIFAR-10 Batch 1:  Loss:    0.5414Accuracy:0.591800\n",
      "Epoch 35, CIFAR-10 Batch 2:  Loss:    0.5441Accuracy:0.600800\n",
      "Epoch 35, CIFAR-10 Batch 3:  Loss:    0.4595Accuracy:0.605000\n",
      "Epoch 35, CIFAR-10 Batch 4:  Loss:    0.5738Accuracy:0.602200\n",
      "Epoch 35, CIFAR-10 Batch 5:  Loss:    0.5419Accuracy:0.589200\n",
      "Epoch 36, CIFAR-10 Batch 1:  Loss:    0.5305Accuracy:0.594600\n",
      "Epoch 36, CIFAR-10 Batch 2:  Loss:    0.5326Accuracy:0.601000\n",
      "Epoch 36, CIFAR-10 Batch 3:  Loss:    0.4501Accuracy:0.604400\n",
      "Epoch 36, CIFAR-10 Batch 4:  Loss:    0.5667Accuracy:0.604000\n",
      "Epoch 36, CIFAR-10 Batch 5:  Loss:    0.5309Accuracy:0.589800\n",
      "Epoch 37, CIFAR-10 Batch 1:  Loss:    0.5214Accuracy:0.596400\n",
      "Epoch 37, CIFAR-10 Batch 2:  Loss:    0.5240Accuracy:0.600800\n",
      "Epoch 37, CIFAR-10 Batch 3:  Loss:    0.4408Accuracy:0.603600\n",
      "Epoch 37, CIFAR-10 Batch 4:  Loss:    0.5575Accuracy:0.603800\n",
      "Epoch 37, CIFAR-10 Batch 5:  Loss:    0.5198Accuracy:0.593400\n",
      "Epoch 38, CIFAR-10 Batch 1:  Loss:    0.5110Accuracy:0.598200\n",
      "Epoch 38, CIFAR-10 Batch 2:  Loss:    0.5147Accuracy:0.600000\n",
      "Epoch 38, CIFAR-10 Batch 3:  Loss:    0.4321Accuracy:0.603600\n",
      "Epoch 38, CIFAR-10 Batch 4:  Loss:    0.5496Accuracy:0.604200\n",
      "Epoch 38, CIFAR-10 Batch 5:  Loss:    0.5077Accuracy:0.594600\n",
      "Epoch 39, CIFAR-10 Batch 1:  Loss:    0.5012Accuracy:0.598800\n",
      "Epoch 39, CIFAR-10 Batch 2:  Loss:    0.5040Accuracy:0.600800\n",
      "Epoch 39, CIFAR-10 Batch 3:  Loss:    0.4224Accuracy:0.603000\n",
      "Epoch 39, CIFAR-10 Batch 4:  Loss:    0.5388Accuracy:0.607200\n",
      "Epoch 39, CIFAR-10 Batch 5:  Loss:    0.4978Accuracy:0.594000\n",
      "Epoch 40, CIFAR-10 Batch 1:  Loss:    0.4938Accuracy:0.599800\n",
      "Epoch 40, CIFAR-10 Batch 2:  Loss:    0.4972Accuracy:0.599400\n",
      "Epoch 40, CIFAR-10 Batch 3:  Loss:    0.4141Accuracy:0.604000\n",
      "Epoch 40, CIFAR-10 Batch 4:  Loss:    0.5327Accuracy:0.607000\n",
      "Epoch 40, CIFAR-10 Batch 5:  Loss:    0.4833Accuracy:0.593600\n",
      "Epoch 41, CIFAR-10 Batch 1:  Loss:    0.4858Accuracy:0.599800\n",
      "Epoch 41, CIFAR-10 Batch 2:  Loss:    0.4885Accuracy:0.601400\n",
      "Epoch 41, CIFAR-10 Batch 3:  Loss:    0.4048Accuracy:0.606200\n",
      "Epoch 41, CIFAR-10 Batch 4:  Loss:    0.5242Accuracy:0.606800\n",
      "Epoch 41, CIFAR-10 Batch 5:  Loss:    0.4708Accuracy:0.595200\n",
      "Epoch 42, CIFAR-10 Batch 1:  Loss:    0.4750Accuracy:0.599600\n",
      "Epoch 42, CIFAR-10 Batch 2:  Loss:    0.4808Accuracy:0.603000\n",
      "Epoch 42, CIFAR-10 Batch 3:  Loss:    0.3974Accuracy:0.607800\n",
      "Epoch 42, CIFAR-10 Batch 4:  Loss:    0.5176Accuracy:0.609600\n",
      "Epoch 42, CIFAR-10 Batch 5:  Loss:    0.4630Accuracy:0.597200\n",
      "Epoch 43, CIFAR-10 Batch 1:  Loss:    0.4632Accuracy:0.601000\n",
      "Epoch 43, CIFAR-10 Batch 2:  Loss:    0.4730Accuracy:0.601800\n",
      "Epoch 43, CIFAR-10 Batch 3:  Loss:    0.3904Accuracy:0.610200\n",
      "Epoch 43, CIFAR-10 Batch 4:  Loss:    0.5099Accuracy:0.606800\n",
      "Epoch 43, CIFAR-10 Batch 5:  Loss:    0.4515Accuracy:0.599800\n",
      "Epoch 44, CIFAR-10 Batch 1:  Loss:    0.4596Accuracy:0.600400\n",
      "Epoch 44, CIFAR-10 Batch 2:  Loss:    0.4666Accuracy:0.603000\n",
      "Epoch 44, CIFAR-10 Batch 3:  Loss:    0.3822Accuracy:0.609600\n",
      "Epoch 44, CIFAR-10 Batch 4:  Loss:    0.5023Accuracy:0.607600\n",
      "Epoch 44, CIFAR-10 Batch 5:  Loss:    0.4413Accuracy:0.598600\n",
      "Epoch 45, CIFAR-10 Batch 1:  Loss:    0.4535Accuracy:0.601800\n",
      "Epoch 45, CIFAR-10 Batch 2:  Loss:    0.4573Accuracy:0.603000\n",
      "Epoch 45, CIFAR-10 Batch 3:  Loss:    0.3773Accuracy:0.608800\n",
      "Epoch 45, CIFAR-10 Batch 4:  Loss:    0.4954Accuracy:0.607000\n",
      "Epoch 45, CIFAR-10 Batch 5:  Loss:    0.4325Accuracy:0.599400\n",
      "Epoch 46, CIFAR-10 Batch 1:  Loss:    0.4436Accuracy:0.604200\n",
      "Epoch 46, CIFAR-10 Batch 2:  Loss:    0.4505Accuracy:0.603600\n",
      "Epoch 46, CIFAR-10 Batch 3:  Loss:    0.3713Accuracy:0.609400\n",
      "Epoch 46, CIFAR-10 Batch 4:  Loss:    0.4877Accuracy:0.608000\n",
      "Epoch 46, CIFAR-10 Batch 5:  Loss:    0.4237Accuracy:0.600400\n",
      "Epoch 47, CIFAR-10 Batch 1:  Loss:    0.4371Accuracy:0.604200\n",
      "Epoch 47, CIFAR-10 Batch 2:  Loss:    0.4417Accuracy:0.605200\n",
      "Epoch 47, CIFAR-10 Batch 3:  Loss:    0.3664Accuracy:0.609200\n",
      "Epoch 47, CIFAR-10 Batch 4:  Loss:    0.4807Accuracy:0.606000\n",
      "Epoch 47, CIFAR-10 Batch 5:  Loss:    0.4182Accuracy:0.598200\n",
      "Epoch 48, CIFAR-10 Batch 1:  Loss:    0.4304Accuracy:0.606800\n",
      "Epoch 48, CIFAR-10 Batch 2:  Loss:    0.4354Accuracy:0.604800\n",
      "Epoch 48, CIFAR-10 Batch 3:  Loss:    0.3579Accuracy:0.609200\n",
      "Epoch 48, CIFAR-10 Batch 4:  Loss:    0.4731Accuracy:0.609200\n",
      "Epoch 48, CIFAR-10 Batch 5:  Loss:    0.4078Accuracy:0.600600\n",
      "Epoch 49, CIFAR-10 Batch 1:  Loss:    0.4245Accuracy:0.608400\n",
      "Epoch 49, CIFAR-10 Batch 2:  Loss:    0.4266Accuracy:0.606400\n",
      "Epoch 49, CIFAR-10 Batch 3:  Loss:    0.3540Accuracy:0.610000\n",
      "Epoch 49, CIFAR-10 Batch 4:  Loss:    0.4662Accuracy:0.608800\n",
      "Epoch 49, CIFAR-10 Batch 5:  Loss:    0.4011Accuracy:0.602400\n",
      "Epoch 50, CIFAR-10 Batch 1:  Loss:    0.4164Accuracy:0.609000\n",
      "Epoch 50, CIFAR-10 Batch 2:  Loss:    0.4182Accuracy:0.606400\n",
      "Epoch 50, CIFAR-10 Batch 3:  Loss:    0.3471Accuracy:0.609800\n",
      "Epoch 50, CIFAR-10 Batch 4:  Loss:    0.4605Accuracy:0.607600\n",
      "Epoch 50, CIFAR-10 Batch 5:  Loss:    0.3921Accuracy:0.603200\n"
     ]
    }
   ],
   "source": [
    "\"\"\"\n",
    "DON'T MODIFY ANYTHING IN THIS CELL\n",
    "\"\"\"\n",
    "save_model_path = './image_classification'\n",
    "\n",
    "print('Training...')\n",
    "with tf.Session() as sess:\n",
    "    # Initializing the variables\n",
    "    sess.run(tf.global_variables_initializer())\n",
    "    \n",
    "    # Training cycle\n",
    "    for epoch in range(epochs):\n",
    "        # Loop over all batches\n",
    "        n_batches = 5\n",
    "        for batch_i in range(1, n_batches + 1):\n",
    "            for batch_features, batch_labels in helper.load_preprocess_training_batch(batch_i, batch_size):\n",
    "                train_neural_network(sess, optimizer, keep_probability, batch_features, batch_labels)\n",
    "            print('Epoch {:>2}, CIFAR-10 Batch {}:  '.format(epoch + 1, batch_i), end='')\n",
    "            print_stats(sess, batch_features, batch_labels, cost, accuracy)\n",
    "            \n",
    "    # Save Model\n",
    "    saver = tf.train.Saver()\n",
    "    save_path = saver.save(sess, save_model_path)"
   ]
  },
  {
   "cell_type": "markdown",
   "metadata": {
    "deletable": true,
    "editable": true
   },
   "source": [
    "# Checkpoint\n",
    "The model has been saved to disk.\n",
    "## Test Model\n",
    "Test your model against the test dataset.  This will be your final accuracy. You should have an accuracy greater than 50%. If you don't, keep tweaking the model architecture and parameters."
   ]
  },
  {
   "cell_type": "code",
   "execution_count": 53,
   "metadata": {
    "collapsed": false,
    "deletable": true,
    "editable": true
   },
   "outputs": [
    {
     "name": "stdout",
     "output_type": "stream",
     "text": [
      "Testing Accuracy: 0.60908203125\n",
      "\n"
     ]
    },
    {
     "data": {
      "image/png": "[encoded data removed]",
      "text/plain": [
       "<matplotlib.figure.Figure at 0x7fef4f075080>"
      ]
     },
     "metadata": {
      "image/png": {
       "height": 319,
       "width": 355
      }
     },
     "output_type": "display_data"
    }
   ],
   "source": [
    "\"\"\"\n",
    "DON'T MODIFY ANYTHING IN THIS CELL\n",
    "\"\"\"\n",
    "%matplotlib inline\n",
    "%config InlineBackend.figure_format = 'retina'\n",
    "\n",
    "import tensorflow as tf\n",
    "import pickle\n",
    "import helper\n",
    "import random\n",
    "\n",
    "# Set batch size if not already set\n",
    "try:\n",
    "    if batch_size:\n",
    "        pass\n",
    "except NameError:\n",
    "    batch_size = 64\n",
    "\n",
    "save_model_path = './image_classification'\n",
    "n_samples = 4\n",
    "top_n_predictions = 3\n",
    "\n",
    "def test_model():\n",
    "    \"\"\"\n",
    "    Test the saved model against the test dataset\n",
    "    \"\"\"\n",
    "\n",
    "    test_features, test_labels = pickle.load(open('preprocess_training.p', mode='rb'))\n",
    "    loaded_graph = tf.Graph()\n",
    "\n",
    "    with tf.Session(graph=loaded_graph) as sess:\n",
    "        # Load model\n",
    "        loader = tf.train.import_meta_graph(save_model_path + '.meta')\n",
    "        loader.restore(sess, save_model_path)\n",
    "\n",
    "        # Get Tensors from loaded model\n",
    "        loaded_x = loaded_graph.get_tensor_by_name('x:0')\n",
    "        loaded_y = loaded_graph.get_tensor_by_name('y:0')\n",
    "        loaded_keep_prob = loaded_graph.get_tensor_by_name('keep_prob:0')\n",
    "        loaded_logits = loaded_graph.get_tensor_by_name('logits:0')\n",
    "        loaded_acc = loaded_graph.get_tensor_by_name('accuracy:0')\n",
    "        \n",
    "        # Get accuracy in batches for memory limitations\n",
    "        test_batch_acc_total = 0\n",
    "        test_batch_count = 0\n",
    "        \n",
    "        for train_feature_batch, train_label_batch in helper.batch_features_labels(test_features, test_labels, batch_size):\n",
    "            test_batch_acc_total += sess.run(\n",
    "                loaded_acc,\n",
    "                feed_dict={loaded_x: train_feature_batch, loaded_y: train_label_batch, loaded_keep_prob: 1.0})\n",
    "            test_batch_count += 1\n",
    "\n",
    "        print('Testing Accuracy: {}\\n'.format(test_batch_acc_total/test_batch_count))\n",
    "\n",
    "        # Print Random Samples\n",
    "        random_test_features, random_test_labels = tuple(zip(*random.sample(list(zip(test_features, test_labels)), n_samples)))\n",
    "        random_test_predictions = sess.run(\n",
    "            tf.nn.top_k(tf.nn.softmax(loaded_logits), top_n_predictions),\n",
    "            feed_dict={loaded_x: random_test_features, loaded_y: random_test_labels, loaded_keep_prob: 1.0})\n",
    "        helper.display_image_predictions(random_test_features, random_test_labels, random_test_predictions)\n",
    "\n",
    "\n",
    "test_model()"
   ]
  },
  {
   "cell_type": "markdown",
   "metadata": {
    "deletable": true,
    "editable": true
   },
   "source": [
    "## Why 50-80% Accuracy?\n",
    "You might be wondering why you can't get an accuracy any higher. First things first, 50% isn't bad for a simple CNN.  Pure guessing would get you 10% accuracy. However, you might notice people are getting scores [well above 80%](http://rodrigob.github.io/are_we_there_yet/build/classification_datasets_results.html#43494641522d3130).  That's because we haven't taught you all there is to know about neural networks. We still need to cover a few more techniques.\n",
    "## Submitting This Project\n",
    "When submitting this project, make sure to run all the cells before saving the notebook.  Save the notebook file as \"dlnd_image_classification.ipynb\" and save it as a HTML file under \"File\" -> \"Download as\".  Include the \"helper.py\" and \"problem_unittests.py\" files in your submission."
   ]
  }
 ],
 "metadata": {
  "anaconda-cloud": {},
  "kernelspec": {
   "display_name": "Python 3",
   "language": "python",
   "name": "python3"
  },
  "language_info": {
   "codemirror_mode": {
    "name": "ipython",
    "version": 3
   },
   "file_extension": ".py",
   "mimetype": "text/x-python",
   "name": "python",
   "nbconvert_exporter": "python",
   "pygments_lexer": "ipython3",
   "version": "3.5.2"
  },
  "widgets": {
   "state": {},
   "version": "1.1.2"
  }
 },
 "nbformat": 4,
 "nbformat_minor": 0
}
